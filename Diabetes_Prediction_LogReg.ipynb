{
 "cells": [
  {
   "cell_type": "markdown",
   "id": "9c7e5b65-73f1-4775-b75a-63e6f46292a5",
   "metadata": {},
   "source": [
    "# Diabetes Prediction Using Logistic Regression"
   ]
  },
  {
   "cell_type": "markdown",
   "id": "733a9015-510f-4a82-b10f-6bdd40ad985e",
   "metadata": {},
   "source": [
    "__AUTHOR__: RUDHRA (RUDHRA SEETHARAM)"
   ]
  },
  {
   "cell_type": "markdown",
   "id": "11a5be5c-4543-4f8e-ba8c-056d0f293272",
   "metadata": {},
   "source": [
    "__Variables__ : gender, age, hypertension, heart_disease, smoking_history, bmi, HbA1c_level, blood_glucose_level, diabetes"
   ]
  },
  {
   "cell_type": "markdown",
   "id": "9b864f5e-daa3-4b0b-ad02-77b51fac2d55",
   "metadata": {},
   "source": [
    "__Independent Variables__ : gender, age, hypertension, heart_disease, smoking_history, bmi, HbA1c_level, blood_glucose_level"
   ]
  },
  {
   "cell_type": "markdown",
   "id": "b5641c6e-961e-4f56-b391-d80cc8777626",
   "metadata": {},
   "source": [
    "__Dependent Variable__: diabetes"
   ]
  },
  {
   "cell_type": "markdown",
   "id": "bb5d491a-62a1-4596-8aaa-afd844ea1792",
   "metadata": {},
   "source": [
    "__Categorical Variables__: gender, hypertension, heart_disease, smoking_history, age, bmi, HbA1c_level, blood_glucose_level, diabetes"
   ]
  },
  {
   "cell_type": "markdown",
   "id": "0c7bfa89-3714-4c54-a24e-9f15be48ea62",
   "metadata": {},
   "source": [
    "Since the dependent variable (diabetes) is categorical, we will use logistic regression."
   ]
  },
  {
   "cell_type": "code",
   "execution_count": 1,
   "id": "5fb87727-f93d-4011-9b80-c86d37aa2cfa",
   "metadata": {},
   "outputs": [],
   "source": [
    "# Importing Libraries\n",
    "import pandas as pd\n",
    "import numpy as np\n",
    "import matplotlib.pyplot as plt\n",
    "import seaborn as sns"
   ]
  },
  {
   "cell_type": "code",
   "execution_count": 2,
   "id": "321d4bd8-d6f5-4cee-b288-e94fe20238ff",
   "metadata": {},
   "outputs": [
    {
     "data": {
      "text/html": [
       "<div>\n",
       "<style scoped>\n",
       "    .dataframe tbody tr th:only-of-type {\n",
       "        vertical-align: middle;\n",
       "    }\n",
       "\n",
       "    .dataframe tbody tr th {\n",
       "        vertical-align: top;\n",
       "    }\n",
       "\n",
       "    .dataframe thead th {\n",
       "        text-align: right;\n",
       "    }\n",
       "</style>\n",
       "<table border=\"1\" class=\"dataframe\">\n",
       "  <thead>\n",
       "    <tr style=\"text-align: right;\">\n",
       "      <th></th>\n",
       "      <th>gender</th>\n",
       "      <th>age</th>\n",
       "      <th>hypertension</th>\n",
       "      <th>heart_disease</th>\n",
       "      <th>smoking_history</th>\n",
       "      <th>bmi</th>\n",
       "      <th>HbA1c_level</th>\n",
       "      <th>blood_glucose_level</th>\n",
       "      <th>diabetes</th>\n",
       "    </tr>\n",
       "  </thead>\n",
       "  <tbody>\n",
       "    <tr>\n",
       "      <th>0</th>\n",
       "      <td>Female</td>\n",
       "      <td>80.0</td>\n",
       "      <td>0</td>\n",
       "      <td>1</td>\n",
       "      <td>never</td>\n",
       "      <td>25.19</td>\n",
       "      <td>6.6</td>\n",
       "      <td>140</td>\n",
       "      <td>0</td>\n",
       "    </tr>\n",
       "    <tr>\n",
       "      <th>1</th>\n",
       "      <td>Female</td>\n",
       "      <td>54.0</td>\n",
       "      <td>0</td>\n",
       "      <td>0</td>\n",
       "      <td>No Info</td>\n",
       "      <td>27.32</td>\n",
       "      <td>6.6</td>\n",
       "      <td>80</td>\n",
       "      <td>0</td>\n",
       "    </tr>\n",
       "    <tr>\n",
       "      <th>2</th>\n",
       "      <td>Male</td>\n",
       "      <td>28.0</td>\n",
       "      <td>0</td>\n",
       "      <td>0</td>\n",
       "      <td>never</td>\n",
       "      <td>27.32</td>\n",
       "      <td>5.7</td>\n",
       "      <td>158</td>\n",
       "      <td>0</td>\n",
       "    </tr>\n",
       "    <tr>\n",
       "      <th>3</th>\n",
       "      <td>Female</td>\n",
       "      <td>36.0</td>\n",
       "      <td>0</td>\n",
       "      <td>0</td>\n",
       "      <td>current</td>\n",
       "      <td>23.45</td>\n",
       "      <td>5.0</td>\n",
       "      <td>155</td>\n",
       "      <td>0</td>\n",
       "    </tr>\n",
       "    <tr>\n",
       "      <th>4</th>\n",
       "      <td>Male</td>\n",
       "      <td>76.0</td>\n",
       "      <td>1</td>\n",
       "      <td>1</td>\n",
       "      <td>current</td>\n",
       "      <td>20.14</td>\n",
       "      <td>4.8</td>\n",
       "      <td>155</td>\n",
       "      <td>0</td>\n",
       "    </tr>\n",
       "  </tbody>\n",
       "</table>\n",
       "</div>"
      ],
      "text/plain": [
       "   gender   age  hypertension  heart_disease smoking_history    bmi  \\\n",
       "0  Female  80.0             0              1           never  25.19   \n",
       "1  Female  54.0             0              0         No Info  27.32   \n",
       "2    Male  28.0             0              0           never  27.32   \n",
       "3  Female  36.0             0              0         current  23.45   \n",
       "4    Male  76.0             1              1         current  20.14   \n",
       "\n",
       "   HbA1c_level  blood_glucose_level  diabetes  \n",
       "0          6.6                  140         0  \n",
       "1          6.6                   80         0  \n",
       "2          5.7                  158         0  \n",
       "3          5.0                  155         0  \n",
       "4          4.8                  155         0  "
      ]
     },
     "execution_count": 2,
     "metadata": {},
     "output_type": "execute_result"
    }
   ],
   "source": [
    "# Read diabetes_prediction_dataset.csv\n",
    "df = pd.read_csv(\"diabetes_prediction_dataset.csv\")\n",
    "df.head()"
   ]
  },
  {
   "cell_type": "code",
   "execution_count": 3,
   "id": "b2a3a01b-b220-4b19-9bbf-6c5390811bda",
   "metadata": {},
   "outputs": [
    {
     "data": {
      "text/html": [
       "<div>\n",
       "<style scoped>\n",
       "    .dataframe tbody tr th:only-of-type {\n",
       "        vertical-align: middle;\n",
       "    }\n",
       "\n",
       "    .dataframe tbody tr th {\n",
       "        vertical-align: top;\n",
       "    }\n",
       "\n",
       "    .dataframe thead th {\n",
       "        text-align: right;\n",
       "    }\n",
       "</style>\n",
       "<table border=\"1\" class=\"dataframe\">\n",
       "  <thead>\n",
       "    <tr style=\"text-align: right;\">\n",
       "      <th></th>\n",
       "      <th>age</th>\n",
       "      <th>hypertension</th>\n",
       "      <th>heart_disease</th>\n",
       "      <th>bmi</th>\n",
       "      <th>HbA1c_level</th>\n",
       "      <th>blood_glucose_level</th>\n",
       "      <th>gender_Male</th>\n",
       "      <th>gender_Other</th>\n",
       "      <th>smoking_history_current</th>\n",
       "      <th>smoking_history_ever</th>\n",
       "      <th>smoking_history_former</th>\n",
       "      <th>smoking_history_never</th>\n",
       "      <th>smoking_history_not current</th>\n",
       "    </tr>\n",
       "  </thead>\n",
       "  <tbody>\n",
       "    <tr>\n",
       "      <th>0</th>\n",
       "      <td>80.0</td>\n",
       "      <td>0</td>\n",
       "      <td>1</td>\n",
       "      <td>25.19</td>\n",
       "      <td>6.6</td>\n",
       "      <td>140</td>\n",
       "      <td>0</td>\n",
       "      <td>0</td>\n",
       "      <td>0</td>\n",
       "      <td>0</td>\n",
       "      <td>0</td>\n",
       "      <td>1</td>\n",
       "      <td>0</td>\n",
       "    </tr>\n",
       "    <tr>\n",
       "      <th>1</th>\n",
       "      <td>54.0</td>\n",
       "      <td>0</td>\n",
       "      <td>0</td>\n",
       "      <td>27.32</td>\n",
       "      <td>6.6</td>\n",
       "      <td>80</td>\n",
       "      <td>0</td>\n",
       "      <td>0</td>\n",
       "      <td>0</td>\n",
       "      <td>0</td>\n",
       "      <td>0</td>\n",
       "      <td>0</td>\n",
       "      <td>0</td>\n",
       "    </tr>\n",
       "    <tr>\n",
       "      <th>2</th>\n",
       "      <td>28.0</td>\n",
       "      <td>0</td>\n",
       "      <td>0</td>\n",
       "      <td>27.32</td>\n",
       "      <td>5.7</td>\n",
       "      <td>158</td>\n",
       "      <td>1</td>\n",
       "      <td>0</td>\n",
       "      <td>0</td>\n",
       "      <td>0</td>\n",
       "      <td>0</td>\n",
       "      <td>1</td>\n",
       "      <td>0</td>\n",
       "    </tr>\n",
       "    <tr>\n",
       "      <th>3</th>\n",
       "      <td>36.0</td>\n",
       "      <td>0</td>\n",
       "      <td>0</td>\n",
       "      <td>23.45</td>\n",
       "      <td>5.0</td>\n",
       "      <td>155</td>\n",
       "      <td>0</td>\n",
       "      <td>0</td>\n",
       "      <td>1</td>\n",
       "      <td>0</td>\n",
       "      <td>0</td>\n",
       "      <td>0</td>\n",
       "      <td>0</td>\n",
       "    </tr>\n",
       "    <tr>\n",
       "      <th>4</th>\n",
       "      <td>76.0</td>\n",
       "      <td>1</td>\n",
       "      <td>1</td>\n",
       "      <td>20.14</td>\n",
       "      <td>4.8</td>\n",
       "      <td>155</td>\n",
       "      <td>1</td>\n",
       "      <td>0</td>\n",
       "      <td>1</td>\n",
       "      <td>0</td>\n",
       "      <td>0</td>\n",
       "      <td>0</td>\n",
       "      <td>0</td>\n",
       "    </tr>\n",
       "  </tbody>\n",
       "</table>\n",
       "</div>"
      ],
      "text/plain": [
       "    age  hypertension  heart_disease    bmi  HbA1c_level  blood_glucose_level  \\\n",
       "0  80.0             0              1  25.19          6.6                  140   \n",
       "1  54.0             0              0  27.32          6.6                   80   \n",
       "2  28.0             0              0  27.32          5.7                  158   \n",
       "3  36.0             0              0  23.45          5.0                  155   \n",
       "4  76.0             1              1  20.14          4.8                  155   \n",
       "\n",
       "   gender_Male  gender_Other  smoking_history_current  smoking_history_ever  \\\n",
       "0            0             0                        0                     0   \n",
       "1            0             0                        0                     0   \n",
       "2            1             0                        0                     0   \n",
       "3            0             0                        1                     0   \n",
       "4            1             0                        1                     0   \n",
       "\n",
       "   smoking_history_former  smoking_history_never  smoking_history_not current  \n",
       "0                       0                      1                            0  \n",
       "1                       0                      0                            0  \n",
       "2                       0                      1                            0  \n",
       "3                       0                      0                            0  \n",
       "4                       0                      0                            0  "
      ]
     },
     "execution_count": 3,
     "metadata": {},
     "output_type": "execute_result"
    }
   ],
   "source": [
    "# Getting dummy variables in order to perform logistic regression\n",
    "# Value for x variable (independent) \n",
    "x = df[['age', 'hypertension', 'gender', 'heart_disease', 'smoking_history', 'bmi', 'HbA1c_level', 'blood_glucose_level']]\n",
    "\n",
    "# The independent variables are all categorical variable, therefore we need dummy variables\n",
    "x = pd.get_dummies(data = x, drop_first = True)\n",
    "x = x.replace({True: 1, False: 0})\n",
    "x.head()"
   ]
  },
  {
   "cell_type": "code",
   "execution_count": 4,
   "id": "52879617-a666-4dcc-a28d-c46dccecdcff",
   "metadata": {},
   "outputs": [
    {
     "data": {
      "text/html": [
       "<div>\n",
       "<style scoped>\n",
       "    .dataframe tbody tr th:only-of-type {\n",
       "        vertical-align: middle;\n",
       "    }\n",
       "\n",
       "    .dataframe tbody tr th {\n",
       "        vertical-align: top;\n",
       "    }\n",
       "\n",
       "    .dataframe thead th {\n",
       "        text-align: right;\n",
       "    }\n",
       "</style>\n",
       "<table border=\"1\" class=\"dataframe\">\n",
       "  <thead>\n",
       "    <tr style=\"text-align: right;\">\n",
       "      <th></th>\n",
       "      <th>diabetes</th>\n",
       "    </tr>\n",
       "  </thead>\n",
       "  <tbody>\n",
       "    <tr>\n",
       "      <th>0</th>\n",
       "      <td>0</td>\n",
       "    </tr>\n",
       "    <tr>\n",
       "      <th>1</th>\n",
       "      <td>0</td>\n",
       "    </tr>\n",
       "    <tr>\n",
       "      <th>2</th>\n",
       "      <td>0</td>\n",
       "    </tr>\n",
       "    <tr>\n",
       "      <th>3</th>\n",
       "      <td>0</td>\n",
       "    </tr>\n",
       "    <tr>\n",
       "      <th>4</th>\n",
       "      <td>0</td>\n",
       "    </tr>\n",
       "  </tbody>\n",
       "</table>\n",
       "</div>"
      ],
      "text/plain": [
       "   diabetes\n",
       "0         0\n",
       "1         0\n",
       "2         0\n",
       "3         0\n",
       "4         0"
      ]
     },
     "execution_count": 4,
     "metadata": {},
     "output_type": "execute_result"
    }
   ],
   "source": [
    "# Value for y variable (dependent variable)\n",
    "y = df[['diabetes']]\n",
    "y.head()"
   ]
  },
  {
   "cell_type": "code",
   "execution_count": 5,
   "id": "af5c8982-b4bf-4cde-825f-ab495ac0676a",
   "metadata": {},
   "outputs": [
    {
     "name": "stdout",
     "output_type": "stream",
     "text": [
      "(60000, 13)\n",
      "(40000, 13)\n",
      "(60000, 1)\n",
      "(40000, 1)\n"
     ]
    }
   ],
   "source": [
    "# Preparing for Logistic Regression\n",
    "# Train and Test dataset\n",
    "from sklearn.model_selection import train_test_split\n",
    "x_train, x_test, y_train, y_test = train_test_split(x, y, test_size = 0.4, random_state = 101)\n",
    "\n",
    "print(x_train.shape)\n",
    "print(x_test.shape)\n",
    "print(y_train.shape)\n",
    "print(y_test.shape)"
   ]
  },
  {
   "cell_type": "code",
   "execution_count": 6,
   "id": "23be7240-2f49-4c89-b212-deb5a25b7bd8",
   "metadata": {},
   "outputs": [
    {
     "name": "stderr",
     "output_type": "stream",
     "text": [
      "/Library/Frameworks/Python.framework/Versions/3.11/lib/python3.11/site-packages/sklearn/utils/validation.py:1184: DataConversionWarning: A column-vector y was passed when a 1d array was expected. Please change the shape of y to (n_samples, ), for example using ravel().\n",
      "  y = column_or_1d(y, warn=True)\n",
      "/Library/Frameworks/Python.framework/Versions/3.11/lib/python3.11/site-packages/sklearn/linear_model/_logistic.py:460: ConvergenceWarning: lbfgs failed to converge (status=1):\n",
      "STOP: TOTAL NO. of ITERATIONS REACHED LIMIT.\n",
      "\n",
      "Increase the number of iterations (max_iter) or scale the data as shown in:\n",
      "    https://scikit-learn.org/stable/modules/preprocessing.html\n",
      "Please also refer to the documentation for alternative solver options:\n",
      "    https://scikit-learn.org/stable/modules/linear_model.html#logistic-regression\n",
      "  n_iter_i = _check_optimize_result(\n"
     ]
    }
   ],
   "source": [
    "# Importing logistic regression model\n",
    "from sklearn.linear_model import LogisticRegression\n",
    "logreg = LogisticRegression(random_state=10)\n",
    "logreg.fit(x_train,y_train)\n",
    "y_pred = logreg.predict(x_test)"
   ]
  },
  {
   "cell_type": "code",
   "execution_count": 7,
   "id": "c8923809-f97a-407b-8fc4-9b4a16b0eb5c",
   "metadata": {},
   "outputs": [
    {
     "data": {
      "text/plain": [
       "array([[36248,   364],\n",
       "       [ 1300,  2088]])"
      ]
     },
     "execution_count": 7,
     "metadata": {},
     "output_type": "execute_result"
    }
   ],
   "source": [
    "# Confusion Matrix\n",
    "from  sklearn.metrics import confusion_matrix\n",
    "cnf_matrix = confusion_matrix(y_test, y_pred)\n",
    "cnf_matrix"
   ]
  },
  {
   "cell_type": "code",
   "execution_count": 10,
   "id": "eee5db17-2682-498b-8e04-45ef540f5699",
   "metadata": {},
   "outputs": [
    {
     "name": "stdout",
     "output_type": "stream",
     "text": [
      "95.84\n"
     ]
    }
   ],
   "source": [
    "# Accuracy Score\n",
    "from sklearn.metrics import accuracy_score\n",
    "accuracy = accuracy_score(y_test, y_pred)*100\n",
    "print(accuracy)\n"
   ]
  },
  {
   "cell_type": "code",
   "execution_count": 11,
   "id": "c177b2f8-4734-455c-a5eb-ea493aefeadd",
   "metadata": {},
   "outputs": [
    {
     "data": {
      "text/plain": [
       "<Axes: >"
      ]
     },
     "execution_count": 11,
     "metadata": {},
     "output_type": "execute_result"
    },
    {
     "data": {
      "image/png": "[encoded data removed]",
      "text/plain": [
       "<Figure size 640x480 with 2 Axes>"
      ]
     },
     "metadata": {},
     "output_type": "display_data"
    }
   ],
   "source": [
    "# Visualizing Confusion Matrix (Percentages) using Heat Map\n",
    "conf_names = ['True Neg', 'False Pos', 'False Neg', 'True Pos']\n",
    "conf_counts = [\"{0:0.0f}\".format(value) for value in cnf_matrix.flatten()]\n",
    "conf_percentages = [\"{0:.2%}\".format(value) for value in cnf_matrix.flatten()/np.sum(cnf_matrix)]\n",
    "labels = [f\"{v1}\\n{v2}\\n{v3}\" for v1, v2, v3 in zip(conf_names, conf_counts, conf_percentages)]\n",
    "labels = np.asarray(labels).reshape(2,2)\n",
    "sns.heatmap(cnf_matrix, fmt = '', cmap = 'Blues', annot = labels)"
   ]
  },
  {
   "cell_type": "markdown",
   "id": "1ec19699-fb46-4d0e-9660-8224b0c16be4",
   "metadata": {},
   "source": [
    "__Interpreting the Confusion Matrix__: \n",
    "<br>\n",
    "* 36248 is the number of negative predictions (0's or no diabetes) that were actually negative (0's or no diabetes)\n",
    "<br>\n",
    "* 364 is the number of negative predictions (0's or no diabetes) that were actually positive (1's or with diabetes)\n",
    "<br>\n",
    "* 1300 is the number of positive predictions (1's or with diabetes) that were actually negative (0's or no diabetes)\n",
    "<br>\n",
    "* 2088 is the number of positive predictions (1's or with diabetes) that were actually positive (1's or with diabetes)\n",
    "<br>\n",
    "* Sensitivity = (TP/TP+TN) = (2088/2088+36248) = (2088/38336) = 0.0544\n",
    "<br>\n",
    "* Specificity = (TN/TP+TN) = (36248/2088+36248) = (36248/38336) = 0.9455"
   ]
  },
  {
   "cell_type": "code",
   "execution_count": 13,
   "id": "ee625109-f31a-424d-ae4c-afe4f22065fa",
   "metadata": {},
   "outputs": [
    {
     "data": {
      "image/png": "[encoded data removed]",
      "text/plain": [
       "<Figure size 640x480 with 1 Axes>"
      ]
     },
     "metadata": {},
     "output_type": "display_data"
    }
   ],
   "source": [
    "from sklearn import metrics\n",
    "y_predict_proba = logreg.predict_proba(x_test)[:,1]\n",
    "fpr, tpr, _ = metrics.roc_curve(y_test, y_predict_proba)\n",
    "auc = metrics.roc_auc_score(y_test, y_predict_proba)\n",
    "plt.plot(fpr, tpr, label = \"auc =\" + str(auc))\n",
    "plt.legend(loc = 4)\n",
    "plt.show()"
   ]
  },
  {
   "cell_type": "markdown",
   "id": "58c0b2b0-5b5d-4b35-9761-54ce02478e8a",
   "metadata": {},
   "source": [
    "__Interpreting the AUC-ROC Curve__:\n",
    "<br>\n",
    "The auc is 0.96, shows that the model is a good classifier/predictor."
   ]
  }
 ],
 "metadata": {
  "kernelspec": {
   "display_name": "Python 3 (ipykernel)",
   "language": "python",
   "name": "python3"
  },
  "language_info": {
   "codemirror_mode": {
    "name": "ipython",
    "version": 3
   },
   "file_extension": ".py",
   "mimetype": "text/x-python",
   "name": "python",
   "nbconvert_exporter": "python",
   "pygments_lexer": "ipython3",
   "version": "3.11.4"
  }
 },
 "nbformat": 4,
 "nbformat_minor": 5
}
